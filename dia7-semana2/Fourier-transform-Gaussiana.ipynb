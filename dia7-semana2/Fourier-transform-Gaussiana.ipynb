{
 "cells": [
  {
   "cell_type": "markdown",
   "metadata": {},
   "source": [
    "# Transformada de Fourier discreta"
   ]
  },
  {
   "cell_type": "markdown",
   "metadata": {},
   "source": [
    "La transformada discreta de fourier se define de la siguiente manera:\n",
    "\n",
    "$X_{k}=\\sum _{n=0}^{N-1}x_{n}e^{-{\\frac {2\\pi i}{N}}kn}\\quad \\quad k=0,\\dots ,N-1$\n",
    "\n",
    "La expresión anterior se puede escalar a una matriz unitaria y $X_{k}$ son los coeficientes de x en una base ortonormal.\n",
    "\n",
    "Por lo que podriamos representar la transformada como sigue:\n",
    "\n",
    "$X = M ^. x$\n",
    " \n",
    "Donde $M_{kn} = e^{-{\\frac {2\\pi i}{N}}kn}$"
   ]
  },
  {
   "cell_type": "code",
   "execution_count": 1,
   "metadata": {
    "collapsed": true
   },
   "outputs": [],
   "source": [
    "import numpy as np\n",
    "import matplotlib.pyplot as plt\n",
    "% matplotlib inline"
   ]
  },
  {
   "cell_type": "code",
   "execution_count": 2,
   "metadata": {
    "collapsed": true
   },
   "outputs": [],
   "source": [
    "# Definiendo una funcion para calcular la transformada de fourier\n",
    "\n",
    "def fourier(x):\n",
    "    x = np.asarray(x, dtype=float) #convierte x en arreglo de tipo flotante\n",
    "    N = x.shape[0] # Regresa la dimension del arreglo (en este caso el numero de filas)\n",
    "    n = np.arange(N) # Regresa un arreglo con valores espaciados de 0 hasta N\n",
    "    k = n.reshape((N, 1)) # Regresa un arreglo de N-1 por 2 dimensiones.\n",
    "    M = np.exp(-2j * np.pi * k * n / N) # Regresa la matriz M de la transf. de fourier\n",
    "    return np.dot(M, x) # Producto punto de matriz M y vector x\n",
    "\n",
    "# Definiendo curva gaussiana\n",
    "def gauss(mu,sigma,bins):\n",
    "    return 1/(sigma * np.sqrt(2 * np.pi)) * np.exp( - (bins - mu)**2 / (2 * sigma**2) )\n"
   ]
  },
  {
   "cell_type": "code",
   "execution_count": 3,
   "metadata": {},
   "outputs": [
    {
     "data": {
      "image/png": "[encoded data removed]",
      "text/plain": [
       "<matplotlib.figure.Figure at 0x107996710>"
      ]
     },
     "metadata": {},
     "output_type": "display_data"
    }
   ],
   "source": [
    "# Generando datos de la gaussiana\n",
    "sampling_rate = 100 # Hz\n",
    "start_time = -10\n",
    "end_time = 10\n",
    "N = (end_time - start_time)*sampling_rate # array size\n",
    "t = np.linspace(start_time,end_time,100)\n",
    "\n",
    "mu = 0.\n",
    "sigma = 2.\n",
    "gaussiana = gauss(mu,sigma,t)\n",
    "plt.plot(t,gauss(mu,sigma,t))\n",
    "plt.title('Gaussiana')\n",
    "plt.show()\n",
    "\n",
    "# Realizando la transformada de fourier de la gaussina\n",
    "tf = fourier(gaussiana)\n"
   ]
  },
  {
   "cell_type": "code",
   "execution_count": 5,
   "metadata": {},
   "outputs": [
    {
     "name": "stdout",
     "output_type": "stream",
     "text": [
      "Función transformada de Fourier\n",
      "[  4.94999784e+00 +0.00000000e+00j  -4.07728184e+00 -1.28133744e-01j\n",
      "   2.27858700e+00 +1.43356543e-01j  -8.63955529e-01 -8.16678424e-02j\n",
      "   2.22248160e-01 +2.80764719e-02j  -3.87913111e-02 -6.14394009e-03j\n",
      "   4.59173430e-03 +8.75920163e-04j  -3.70254967e-04 -8.27617906e-05j\n",
      "   1.90042196e-05 +4.87945425e-06j  -1.71368939e-06 -4.97872793e-07j\n",
      "  -8.30180451e-07 -2.69741979e-07j  -7.43112885e-07 -2.67537102e-07j\n",
      "  -6.50625281e-07 -2.57600774e-07j  -5.70768127e-07 -2.46993424e-07j\n",
      "  -5.01622051e-07 -2.36045420e-07j  -4.41702279e-07 -2.25058554e-07j\n",
      "  -3.89678138e-07 -2.14227367e-07j  -3.44391883e-07 -2.03672792e-07j\n",
      "  -3.04852543e-07 -1.93465307e-07j  -2.70220034e-07 -1.83641354e-07j\n",
      "  -2.39785960e-07 -1.74214696e-07j  -2.12954375e-07 -1.65184346e-07j\n",
      "  -1.89224194e-07 -1.56539865e-07j  -1.68173747e-07 -1.48265106e-07j\n",
      "  -1.49447561e-07 -1.40340600e-07j  -1.32745285e-07 -1.32745281e-07j\n",
      "  -1.17812451e-07 -1.25457522e-07j  -1.04432880e-07 -1.18455848e-07j\n",
      "  -9.24223399e-08 -1.11719416e-07j  -8.16233684e-08 -1.05228208e-07j\n",
      "  -7.19009985e-08 -9.89632352e-08j  -6.31392305e-08 -9.29065571e-08j\n",
      "  -5.52381017e-08 -8.70413206e-08j  -4.81112755e-08 -8.13517249e-08j\n",
      "  -4.16840142e-08 -7.58229411e-08j  -3.58915220e-08 -7.04410792e-08j\n",
      "  -3.06775730e-08 -6.51931596e-08j  -2.59932998e-08 -6.00669706e-08j\n",
      "  -2.17962445e-08 -5.50510173e-08j  -1.80495392e-08 -5.01345087e-08j\n",
      "  -1.47212080e-08 -4.53072102e-08j  -1.17836096e-08 -4.05594417e-08j\n",
      "  -9.21292233e-09 -3.58819689e-08j  -6.98877924e-09 -3.12660062e-08j\n",
      "  -5.09388999e-09 -2.67030985e-08j  -3.51377636e-09 -2.21851162e-08j\n",
      "  -2.23656791e-09 -1.77041933e-08j  -1.25273186e-09 -1.32526374e-08j\n",
      "  -5.55098907e-10 -8.82299298e-09j  -1.38521740e-10 -4.40788949e-09j\n",
      "   8.74933154e-17 -9.79443424e-15j  -1.38519085e-10 +4.40788915e-09j\n",
      "  -5.55102754e-10 +8.82300378e-09j  -1.25274701e-09 +1.32526431e-08j\n",
      "  -2.23657234e-09 +1.77042009e-08j  -3.51377907e-09 +2.21851230e-08j\n",
      "  -5.09388713e-09 +2.67031053e-08j  -6.98877690e-09 +3.12660127e-08j\n",
      "  -9.21292305e-09 +3.58819718e-08j  -1.17836052e-08 +4.05594368e-08j\n",
      "  -1.47212107e-08 +4.53072137e-08j  -1.80495296e-08 +5.01345101e-08j\n",
      "  -2.17962446e-08 +5.50510208e-08j  -2.59932859e-08 +6.00669659e-08j\n",
      "  -3.06775747e-08 +6.51931500e-08j  -3.58915259e-08 +7.04410821e-08j\n",
      "  -4.16840125e-08 +7.58229335e-08j  -4.81112721e-08 +8.13517180e-08j\n",
      "  -5.52381074e-08 +8.70413288e-08j  -6.31392328e-08 +9.29065533e-08j\n",
      "  -7.19010024e-08 +9.89632394e-08j  -8.16233601e-08 +1.05228205e-07j\n",
      "  -9.24223412e-08 +1.11719413e-07j  -1.04432888e-07 +1.18455879e-07j\n",
      "  -1.17812451e-07 +1.25457526e-07j  -1.32745295e-07 +1.32745278e-07j\n",
      "  -1.49447554e-07 +1.40340584e-07j  -1.68173749e-07 +1.48265093e-07j\n",
      "  -1.89224173e-07 +1.56539874e-07j  -2.12954363e-07 +1.65184334e-07j\n",
      "  -2.39785956e-07 +1.74214699e-07j  -2.70220034e-07 +1.83641353e-07j\n",
      "  -3.04852541e-07 +1.93465301e-07j  -3.44391876e-07 +2.03672796e-07j\n",
      "  -3.89678130e-07 +2.14227365e-07j  -4.41702263e-07 +2.25058573e-07j\n",
      "  -5.01622055e-07 +2.36045430e-07j  -5.70768135e-07 +2.46993432e-07j\n",
      "  -6.50625269e-07 +2.57600778e-07j  -7.43112902e-07 +2.67537109e-07j\n",
      "  -8.30180449e-07 +2.69741970e-07j  -1.71368937e-06 +4.97872800e-07j\n",
      "   1.90042196e-05 -4.87945425e-06j  -3.70254967e-04 +8.27617906e-05j\n",
      "   4.59173430e-03 -8.75920163e-04j  -3.87913111e-02 +6.14394009e-03j\n",
      "   2.22248160e-01 -2.80764719e-02j  -8.63955529e-01 +8.16678424e-02j\n",
      "   2.27858700e+00 -1.43356543e-01j  -4.07728184e+00 +1.28133744e-01j]\n",
      "\n",
      "Transformada de Fourier de numpy\n",
      "[  4.94999784e+00 +0.00000000e+00j  -4.07728184e+00 -1.28133744e-01j\n",
      "   2.27858700e+00 +1.43356543e-01j  -8.63955529e-01 -8.16678424e-02j\n",
      "   2.22248160e-01 +2.80764719e-02j  -3.87913111e-02 -6.14394009e-03j\n",
      "   4.59173430e-03 +8.75920163e-04j  -3.70254967e-04 -8.27617906e-05j\n",
      "   1.90042196e-05 +4.87945425e-06j  -1.71368939e-06 -4.97872791e-07j\n",
      "  -8.30180449e-07 -2.69741980e-07j  -7.43112888e-07 -2.67537101e-07j\n",
      "  -6.50625280e-07 -2.57600772e-07j  -5.70768127e-07 -2.46993424e-07j\n",
      "  -5.01622050e-07 -2.36045420e-07j  -4.41702283e-07 -2.25058554e-07j\n",
      "  -3.89678138e-07 -2.14227369e-07j  -3.44391881e-07 -2.03672791e-07j\n",
      "  -3.04852541e-07 -1.93465305e-07j  -2.70220040e-07 -1.83641350e-07j\n",
      "  -2.39785959e-07 -1.74214697e-07j  -2.12954371e-07 -1.65184343e-07j\n",
      "  -1.89224193e-07 -1.56539866e-07j  -1.68173748e-07 -1.48265103e-07j\n",
      "  -1.49447561e-07 -1.40340601e-07j  -1.32745282e-07 -1.32745282e-07j\n",
      "  -1.17812454e-07 -1.25457521e-07j  -1.04432884e-07 -1.18455854e-07j\n",
      "  -9.24223401e-08 -1.11719418e-07j  -8.16233667e-08 -1.05228210e-07j\n",
      "  -7.19009981e-08 -9.89632343e-08j  -6.31392329e-08 -9.29065592e-08j\n",
      "  -5.52381050e-08 -8.70413256e-08j  -4.81112740e-08 -8.13517216e-08j\n",
      "  -4.16840096e-08 -7.58229322e-08j  -3.58915239e-08 -7.04410818e-08j\n",
      "  -3.06775738e-08 -6.51931627e-08j  -2.59932985e-08 -6.00669695e-08j\n",
      "  -2.17962430e-08 -5.50510238e-08j  -1.80495348e-08 -5.01345148e-08j\n",
      "  -1.47212067e-08 -4.53072152e-08j  -1.17836072e-08 -4.05594413e-08j\n",
      "  -9.21292476e-09 -3.58819728e-08j  -6.98878064e-09 -3.12660077e-08j\n",
      "  -5.09388917e-09 -2.67031011e-08j  -3.51377755e-09 -2.21851188e-08j\n",
      "  -2.23655902e-09 -1.77041865e-08j  -1.25274330e-09 -1.32526433e-08j\n",
      "  -5.55095649e-10 -8.82299516e-09j  -1.38523190e-10 -4.40787586e-09j\n",
      "   2.64272546e-16 +7.12383759e-17j  -1.38523243e-10 +4.40787558e-09j\n",
      "  -5.55095649e-10 +8.82299516e-09j  -1.25274363e-09 +1.32526429e-08j\n",
      "  -2.23655889e-09 +1.77041867e-08j  -3.51377762e-09 +2.21851184e-08j\n",
      "  -5.09388910e-09 +2.67031011e-08j  -6.98878079e-09 +3.12660072e-08j\n",
      "  -9.21292423e-09 +3.58819735e-08j  -1.17836079e-08 +4.05594398e-08j\n",
      "  -1.47212067e-08 +4.53072152e-08j  -1.80495357e-08 +5.01345134e-08j\n",
      "  -2.17962425e-08 +5.50510247e-08j  -2.59932985e-08 +6.00669689e-08j\n",
      "  -3.06775738e-08 +6.51931628e-08j  -3.58915236e-08 +7.04410815e-08j\n",
      "  -4.16840100e-08 +7.58229324e-08j  -4.81112736e-08 +8.13517217e-08j\n",
      "  -5.52381050e-08 +8.70413256e-08j  -6.31392323e-08 +9.29065591e-08j\n",
      "  -7.19009984e-08 +9.89632345e-08j  -8.16233665e-08 +1.05228209e-07j\n",
      "  -9.24223401e-08 +1.11719418e-07j  -1.04432883e-07 +1.18455854e-07j\n",
      "  -1.17812454e-07 +1.25457522e-07j  -1.32745282e-07 +1.32745282e-07j\n",
      "  -1.49447561e-07 +1.40340601e-07j  -1.68173747e-07 +1.48265102e-07j\n",
      "  -1.89224194e-07 +1.56539867e-07j  -2.12954369e-07 +1.65184341e-07j\n",
      "  -2.39785959e-07 +1.74214697e-07j  -2.70220038e-07 +1.83641348e-07j\n",
      "  -3.04852542e-07 +1.93465306e-07j  -3.44391880e-07 +2.03672790e-07j\n",
      "  -3.89678138e-07 +2.14227369e-07j  -4.41702283e-07 +2.25058554e-07j\n",
      "  -5.01622051e-07 +2.36045419e-07j  -5.70768126e-07 +2.46993425e-07j\n",
      "  -6.50625280e-07 +2.57600772e-07j  -7.43112887e-07 +2.67537101e-07j\n",
      "  -8.30180449e-07 +2.69741980e-07j  -1.71368939e-06 +4.97872790e-07j\n",
      "   1.90042196e-05 -4.87945425e-06j  -3.70254967e-04 +8.27617906e-05j\n",
      "   4.59173430e-03 -8.75920163e-04j  -3.87913111e-02 +6.14394009e-03j\n",
      "   2.22248160e-01 -2.80764719e-02j  -8.63955529e-01 +8.16678424e-02j\n",
      "   2.27858700e+00 -1.43356543e-01j  -4.07728184e+00 +1.28133744e-01j]\n",
      "\n",
      "Fueron aproximados los resultados de las dos funciones:  True\n",
      "\n",
      "Tiempo de cómputo de la funcion fourier\n",
      "The slowest run took 10.31 times longer than the fastest. This could mean that an intermediate result is being cached.\n",
      "10000000 loops, best of 3: 116 ns per loop\n",
      "\n",
      "Tiempo de cómputo de la transformada de numpy fft\n",
      "The slowest run took 9.99 times longer than the fastest. This could mean that an intermediate result is being cached.\n",
      "10000000 loops, best of 3: 119 ns per loop\n"
     ]
    }
   ],
   "source": [
    "# Comparando resultados de tf con el obtenido en fft\n",
    "\n",
    "print 'Función transformada de Fourier'\n",
    "print tf \n",
    "print\n",
    "\n",
    "print 'Transformada de Fourier de numpy'\n",
    "ft = np.fft.fft(gaussiana)\n",
    "print ft\n",
    "print \n",
    "\n",
    "\n",
    "# También podemos comprobar que los resultados son aproximados como sigue\n",
    "print 'Fueron aproximados los resultados de las dos funciones: ', np.allclose(tf,ft)\n",
    "print \n",
    "\n",
    "# Y observar cuanto tiempo de cómputo hace cada uno\n",
    "print 'Tiempo de cómputo de la funcion fourier'\n",
    "%timeit tf\n",
    "print\n",
    "\n",
    "print 'Tiempo de cómputo de la transformada de numpy fft'\n",
    "%timeit ft\n"
   ]
  },
  {
   "cell_type": "code",
   "execution_count": null,
   "metadata": {
    "collapsed": true
   },
   "outputs": [],
   "source": []
  }
 ],
 "metadata": {
  "kernelspec": {
   "display_name": "Python 2",
   "language": "python",
   "name": "python2"
  },
  "language_info": {
   "codemirror_mode": {
    "name": "ipython",
    "version": 2
   },
   "file_extension": ".py",
   "mimetype": "text/x-python",
   "name": "python",
   "nbconvert_exporter": "python",
   "pygments_lexer": "ipython2",
   "version": "2.7.14"
  }
 },
 "nbformat": 4,
 "nbformat_minor": 2
}
