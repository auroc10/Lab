{
 "cells": [
  {
   "cell_type": "markdown",
   "metadata": {},
   "source": [
    "# Transformada de Fourier discreta"
   ]
  },
  {
   "cell_type": "markdown",
   "metadata": {},
   "source": [
    "La transformada discreta de fourier se define de la siguiente manera:\n",
    "\n",
    "$X_{k}=\\sum _{n=0}^{N-1}x_{n}e^{-{\\frac {2\\pi i}{N}}kn}\\quad \\quad k=0,\\dots ,N-1$\n",
    "\n",
    "La expresión anterior se puede escalar a una matriz unitaria y $X_{k}$ son los coeficientes de x en una base ortonormal.\n",
    "\n",
    "Por lo que podriamos representar la transformada como sigue:\n",
    "\n",
    "$X = M ^. x$\n",
    " \n",
    "Donde $M_{kn} = e^{-{\\frac {2\\pi i}{N}}kn}$"
   ]
  },
  {
   "cell_type": "code",
   "execution_count": 44,
   "metadata": {
    "collapsed": true
   },
   "outputs": [],
   "source": [
    "import numpy as np\n",
    "import matplotlib.pyplot as plt\n",
    "% matplotlib inline"
   ]
  },
  {
   "cell_type": "code",
   "execution_count": 45,
   "metadata": {
    "collapsed": true
   },
   "outputs": [],
   "source": [
    "# Definiendo una funcion para calcular la transformada de fourier\n",
    "\n",
    "def fourier(x):\n",
    "    x = np.asarray(x, dtype=float) #convierte x en arreglo de tipo flotante\n",
    "    N = x.shape[0] # Regresa la dimension del arreglo (en este caso el numero de filas)\n",
    "    n = np.arange(N) # Regresa un arreglo con valores espaciados de 0 hasta N\n",
    "    k = n.reshape((N, 1)) # Regresa un arreglo de N-1 por 2 dimensiones.\n",
    "    M = np.exp(-2j * np.pi * k * n / N) # Regresa la matriz M de la transf. de fourier\n",
    "    return np.dot(M, x) # Producto punto de matriz M y vector x\n",
    "\n",
    "# Definiendo curva gaussiana\n",
    "def gauss(mu,sigma,bins):\n",
    "    return 1/(sigma * np.sqrt(2 * np.pi)) * np.exp( - (bins - mu)**2 / (2 * sigma**2) )\n"
   ]
  },
  {
   "cell_type": "code",
   "execution_count": 82,
   "metadata": {},
   "outputs": [
    {
     "data": {
      "image/png": "[encoded data removed]",
      "text/plain": [
       "<matplotlib.figure.Figure at 0x1190e8950>"
      ]
     },
     "metadata": {},
     "output_type": "display_data"
    }
   ],
   "source": [
    "# Generando datos de la gaussiana\n",
    "N = 100\n",
    "x = np.arange(-10,10,10./(2*N))\n",
    "mu = 0.\n",
    "sigma = 2.\n",
    "y = gauss(mu,sigma,x)\n",
    "# Realizando la transformada de fourier de la gaussina\n",
    "tf = fourier(y)\n",
    "# Comparando con numpy fast fourier transform fft\n",
    "ft = np.fft.fft(y)\n",
    "\n",
    "# Se ordenan los arreglos para poder graficar con fftshift \n",
    "# fftshift solo mueve los valores del arreglo no calcula la transformada\n",
    "# Se toma el absoluto de ft y tf porque son valores complejos\n",
    "tf_corregida = np.fft.fftshift(np.abs(ft))/ np.sqrt(2 * N)\n",
    "y_fft = np.fft.fftshift(np.abs(tf))/ np.sqrt(2 * N)\n",
    "plt.plot(x,y,label='Gaussiana')\n",
    "plt.plot(x,tf_corregida,label='fft numpy')\n",
    "plt.plot(x,y_fft,'m.',label='T. fourier de gaussiana')\n",
    "plt.legend()\n",
    "plt.show()\n"
   ]
  },
  {
   "cell_type": "code",
   "execution_count": 79,
   "metadata": {
    "scrolled": true
   },
   "outputs": [
    {
     "name": "stdout",
     "output_type": "stream",
     "text": [
      "Fueron aproximados los resultados de las dos funciones:  True\n",
      "\n",
      "Tiempo de cómputo de la funcion fourier\n",
      "10000000 loops, best of 3: 108 ns per loop\n",
      "\n",
      "Tiempo de cómputo de la transformada de numpy fft\n",
      "10000000 loops, best of 3: 107 ns per loop\n"
     ]
    }
   ],
   "source": [
    "# Comparando resultados de tf con el obtenido en fft\n",
    "\n",
    "# También podemos comprobar que los resultados son aproximados como sigue\n",
    "print 'Fueron aproximados los resultados de las dos funciones: ', np.allclose(tf,ft)\n",
    "print \n",
    "\n",
    "# Y observar cuanto tiempo de cómputo hace cada uno\n",
    "print 'Tiempo de cómputo de la funcion fourier'\n",
    "%timeit tf\n",
    "print\n",
    "\n",
    "print 'Tiempo de cómputo de la transformada de numpy fft'\n",
    "%timeit ft\n"
   ]
  },
  {
   "cell_type": "code",
   "execution_count": null,
   "metadata": {
    "collapsed": true
   },
   "outputs": [],
   "source": []
  }
 ],
 "metadata": {
  "kernelspec": {
   "display_name": "Python 2",
   "language": "python",
   "name": "python2"
  },
  "language_info": {
   "codemirror_mode": {
    "name": "ipython",
    "version": 2
   },
   "file_extension": ".py",
   "mimetype": "text/x-python",
   "name": "python",
   "nbconvert_exporter": "python",
   "pygments_lexer": "ipython2",
   "version": "2.7.14"
  }
 },
 "nbformat": 4,
 "nbformat_minor": 2
}
