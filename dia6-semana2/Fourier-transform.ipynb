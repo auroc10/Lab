{
 "cells": [
  {
   "cell_type": "markdown",
   "metadata": {},
   "source": [
    "# Transformada de Fourier discreta"
   ]
  },
  {
   "cell_type": "markdown",
   "metadata": {},
   "source": [
    "La transformada discreta de fourier se define de la siguiente manera:\n",
    "\n",
    "$X_{k}=\\sum _{n=0}^{N-1}x_{n}e^{-{\\frac {2\\pi i}{N}}kn}\\quad \\quad k=0,\\dots ,N-1$\n",
    "\n",
    "La expresión anterior se puede escalar a una matriz unitaria y $X_{k}$ son los coeficientes de x en una base ortonormal.\n",
    "\n",
    "Por lo que podriamos representar la transformada como sigue:\n",
    "\n",
    "$X = M ^. x$\n",
    " \n",
    "Donde $M_{kn} = e^{-{\\frac {2\\pi i}{N}}kn}$"
   ]
  },
  {
   "cell_type": "code",
   "execution_count": 1,
   "metadata": {},
   "outputs": [],
   "source": [
    "import numpy as np"
   ]
  },
  {
   "cell_type": "code",
   "execution_count": 2,
   "metadata": {},
   "outputs": [],
   "source": [
    "# Definiendo una funcion para calcular la transformada de fourier\n",
    "\n",
    "def fourier(x):\n",
    "    x = np.asarray(x, dtype=float) #convierte x en arreglo de tipo flotante\n",
    "    N = x.shape[0] # Regresa la dimension del arreglo (en este caso el numero de filas)\n",
    "    n = np.arange(N) # Regresa un arreglo con valores espaciados de 0 hasta N\n",
    "    k = n.reshape((N, 1)) # Regresa un arreglo de N-1 por 2 dimensiones.\n",
    "    M = np.exp(-2j * np.pi * k * n / N) # Regresa la matriz M de la transf. de fourier\n",
    "    return np.dot(M, x) # Producto punto de matriz M y vector x"
   ]
  },
  {
   "cell_type": "code",
   "execution_count": 3,
   "metadata": {},
   "outputs": [
    {
     "name": "stdout",
     "output_type": "stream",
     "text": [
      "Función transformada de Fourier\n",
      "[ 4.93742152+0.00000000e+00j -0.53605237-3.40236359e-01j\n",
      "  0.17269679-1.47111733e-01j  0.23419846+8.71711276e-01j\n",
      " -0.64158571+2.85702065e-01j  0.36951377+2.65667750e-15j\n",
      " -0.64158571-2.85702065e-01j  0.23419846-8.71711276e-01j\n",
      "  0.17269679+1.47111733e-01j -0.53605237+3.40236359e-01j]\n",
      "\n",
      "Transformada de Fourier de numpy\n",
      "[ 4.93742152+0.j         -0.53605237-0.34023636j  0.17269679-0.14711173j\n",
      "  0.23419846+0.87171128j -0.64158571+0.28570206j  0.36951377+0.j\n",
      " -0.64158571-0.28570206j  0.23419846-0.87171128j  0.17269679+0.14711173j\n",
      " -0.53605237+0.34023636j]\n",
      "\n",
      "Fueron aproximados los resultados de las dos funciones:  True\n",
      "\n",
      "Tiempo de cómputo de la funcion fourier\n",
      "10000000 loops, best of 3: 109 ns per loop\n",
      "\n",
      "Tiempo de cómputo de la transformada de numpy fft\n",
      "10000000 loops, best of 3: 106 ns per loop\n"
     ]
    }
   ],
   "source": [
    "# Creando un arreglo para probar la funcion \n",
    "x = np.random.random(10)\n",
    "tfourier = fourier(x)\n",
    "print 'Función transformada de Fourier'\n",
    "print fourier(x) \n",
    "print\n",
    "\n",
    "print 'Transformada de Fourier de numpy'\n",
    "ft = np.fft.fft(x)\n",
    "print ft\n",
    "print \n",
    "\n",
    "\n",
    "# También podemos comprobar que los resultados son aproximados como sigue\n",
    "print 'Fueron aproximados los resultados de las dos funciones: ', np.allclose(tfourier,ft)\n",
    "print \n",
    "\n",
    "# Y observar cuanto tiempo de cómputo hace cada uno\n",
    "print 'Tiempo de cómputo de la funcion fourier'\n",
    "%timeit tfourier\n",
    "print\n",
    "\n",
    "print 'Tiempo de cómputo de la transformada de numpy fft'\n",
    "%timeit ft\n"
   ]
  },
  {
   "cell_type": "code",
   "execution_count": 6,
   "metadata": {},
   "outputs": [
    {
     "name": "stdout",
     "output_type": "stream",
     "text": [
      "Función transformada de Fourier\n",
      "[ 5.01453457e+02+0.j          2.50245842e-01-4.46950209j\n",
      "  1.99346090e+00+5.76713508j ... -3.03451646e+00-1.92897307j\n",
      "  1.99346090e+00-5.76713508j  2.50245842e-01+4.46950209j]\n",
      "\n",
      "Transformada de Fourier de numpy\n",
      "[ 5.01453457e+02+0.j          2.50245842e-01-4.46950209j\n",
      "  1.99346090e+00+5.76713508j ... -3.03451646e+00-1.92897307j\n",
      "  1.99346090e+00-5.76713508j  2.50245842e-01+4.46950209j]\n",
      "\n",
      "Fueron aproximados los resultados de las dos funciones:  True\n",
      "\n",
      "Tiempo de cómputo de la funcion fourier\n",
      "10000000 loops, best of 3: 104 ns per loop\n",
      "\n",
      "Tiempo de cómputo de la transformada de numpy fft\n",
      "The slowest run took 11.04 times longer than the fastest. This could mean that an intermediate result is being cached.\n",
      "10000000 loops, best of 3: 108 ns per loop\n"
     ]
    }
   ],
   "source": [
    "# Probando con un arreglo más grande\n",
    "x = np.random.random(1024)\n",
    "tfourier = fourier(x)\n",
    "print 'Función transformada de Fourier'\n",
    "print fourier(x) \n",
    "print\n",
    "\n",
    "print 'Transformada de Fourier de numpy'\n",
    "ft = np.fft.fft(x)\n",
    "print ft\n",
    "print \n",
    "\n",
    "\n",
    "# También podemos comprobar que los resultados son aproximados como sigue\n",
    "print 'Fueron aproximados los resultados de las dos funciones: ', np.allclose(tfourier,ft)\n",
    "print \n",
    "\n",
    "# Y observar cuanto tiempo de cómputo hace cada uno\n",
    "print 'Tiempo de cómputo de la funcion fourier'\n",
    "%timeit tfourier\n",
    "print\n",
    "\n",
    "print 'Tiempo de cómputo de la transformada de numpy fft'\n",
    "%timeit ft\n",
    "\n"
   ]
  },
  {
   "cell_type": "code",
   "execution_count": null,
   "metadata": {},
   "outputs": [],
   "source": []
  }
 ],
 "metadata": {
  "kernelspec": {
   "display_name": "Python 2",
   "language": "python",
   "name": "python2"
  },
  "language_info": {
   "codemirror_mode": {
    "name": "ipython",
    "version": 2
   },
   "file_extension": ".py",
   "mimetype": "text/x-python",
   "name": "python",
   "nbconvert_exporter": "python",
   "pygments_lexer": "ipython2",
   "version": "2.7.15"
  }
 },
 "nbformat": 4,
 "nbformat_minor": 2
}
